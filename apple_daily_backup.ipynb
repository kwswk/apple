{
 "cells": [
  {
   "cell_type": "code",
   "execution_count": 17,
   "metadata": {},
   "outputs": [],
   "source": [
    "from __future__ import unicode_literals\n",
    "import pandas as pd\n",
    "import urllib\n",
    "from selenium import webdriver\n",
    "import time\n",
    "import logging\n",
    "\n",
    "logging.basicConfig(level=logging.INFO)"
   ]
  },
  {
   "cell_type": "code",
   "execution_count": 3,
   "metadata": {},
   "outputs": [
    {
     "data": {
      "text/plain": "   duration _type   ie_key  description uploader  \\\n0       658   url  Youtube          NaN       果籽   \n1       319   url  Youtube          NaN       果籽   \n2       587   url  Youtube          NaN       果籽   \n3       601   url  Youtube          NaN       果籽   \n4       399   url  Youtube          NaN       果籽   \n\n                                               title          url  view_count  \\\n0  港人求生記｜移英港人自家製絲襪奶茶 倫敦開賣一個月超市上架 #籽想旅行─果籽 香港 Appl...  hxoO8-kc3Dk         NaN   \n1  腳底疣｜醫生教分辨腳底疣症狀 治療疣3大方法 泳池赤腳行高危 #健康蘋台─果籽 香港 App...  bHA0B4TGfcU         NaN   \n2  非法貿易樞紐｜香港年殺2千隻瀕危動物 本地藝術家創AR壁畫籲關注 #動物蘋台─果籽 香港 A...  9jTVSYTcod4         NaN   \n3  腸胃｜新口服藥物助穩定潰瘍性結腸炎病情 大便長期稀爛未必有病 #健康蘋台─果籽 香港 App...  0osWTQ7Q7-g         NaN   \n4  台山疑洩核｜K Kwong解答6大核危機問題 核危機有幾嚴重 香港是否在安全範圍 #Gadg...  hJNmrIBfGpA         NaN   \n\n            id                                         link  \\\n0  hxoO8-kc3Dk  https://www.youtube.com/watch?v=hxoO8-kc3Dk   \n1  bHA0B4TGfcU  https://www.youtube.com/watch?v=bHA0B4TGfcU   \n2  9jTVSYTcod4  https://www.youtube.com/watch?v=9jTVSYTcod4   \n3  0osWTQ7Q7-g  https://www.youtube.com/watch?v=0osWTQ7Q7-g   \n4  hJNmrIBfGpA  https://www.youtube.com/watch?v=hJNmrIBfGpA   \n\n                                         link_decode  \\\n0  https%3A%2F%2Fwww.youtube.com%2Fwatch%3Fv%3Dhx...   \n1  https%3A%2F%2Fwww.youtube.com%2Fwatch%3Fv%3DbH...   \n2  https%3A%2F%2Fwww.youtube.com%2Fwatch%3Fv%3D9j...   \n3  https%3A%2F%2Fwww.youtube.com%2Fwatch%3Fv%3D0o...   \n4  https%3A%2F%2Fwww.youtube.com%2Fwatch%3Fv%3DhJ...   \n\n                                            cdn_link  \n0  https://yt1s.com/en6?q=https%3A%2F%2Fwww.youtu...  \n1  https://yt1s.com/en6?q=https%3A%2F%2Fwww.youtu...  \n2  https://yt1s.com/en6?q=https%3A%2F%2Fwww.youtu...  \n3  https://yt1s.com/en6?q=https%3A%2F%2Fwww.youtu...  \n4  https://yt1s.com/en6?q=https%3A%2F%2Fwww.youtu...  ",
      "text/html": "<div>\n<style scoped>\n    .dataframe tbody tr th:only-of-type {\n        vertical-align: middle;\n    }\n\n    .dataframe tbody tr th {\n        vertical-align: top;\n    }\n\n    .dataframe thead th {\n        text-align: right;\n    }\n</style>\n<table border=\"1\" class=\"dataframe\">\n  <thead>\n    <tr style=\"text-align: right;\">\n      <th></th>\n      <th>duration</th>\n      <th>_type</th>\n      <th>ie_key</th>\n      <th>description</th>\n      <th>uploader</th>\n      <th>title</th>\n      <th>url</th>\n      <th>view_count</th>\n      <th>id</th>\n      <th>link</th>\n      <th>link_decode</th>\n      <th>cdn_link</th>\n    </tr>\n  </thead>\n  <tbody>\n    <tr>\n      <th>0</th>\n      <td>658</td>\n      <td>url</td>\n      <td>Youtube</td>\n      <td>NaN</td>\n      <td>果籽</td>\n      <td>港人求生記｜移英港人自家製絲襪奶茶 倫敦開賣一個月超市上架 #籽想旅行─果籽 香港 Appl...</td>\n      <td>hxoO8-kc3Dk</td>\n      <td>NaN</td>\n      <td>hxoO8-kc3Dk</td>\n      <td>https://www.youtube.com/watch?v=hxoO8-kc3Dk</td>\n      <td>https%3A%2F%2Fwww.youtube.com%2Fwatch%3Fv%3Dhx...</td>\n      <td>https://yt1s.com/en6?q=https%3A%2F%2Fwww.youtu...</td>\n    </tr>\n    <tr>\n      <th>1</th>\n      <td>319</td>\n      <td>url</td>\n      <td>Youtube</td>\n      <td>NaN</td>\n      <td>果籽</td>\n      <td>腳底疣｜醫生教分辨腳底疣症狀 治療疣3大方法 泳池赤腳行高危 #健康蘋台─果籽 香港 App...</td>\n      <td>bHA0B4TGfcU</td>\n      <td>NaN</td>\n      <td>bHA0B4TGfcU</td>\n      <td>https://www.youtube.com/watch?v=bHA0B4TGfcU</td>\n      <td>https%3A%2F%2Fwww.youtube.com%2Fwatch%3Fv%3DbH...</td>\n      <td>https://yt1s.com/en6?q=https%3A%2F%2Fwww.youtu...</td>\n    </tr>\n    <tr>\n      <th>2</th>\n      <td>587</td>\n      <td>url</td>\n      <td>Youtube</td>\n      <td>NaN</td>\n      <td>果籽</td>\n      <td>非法貿易樞紐｜香港年殺2千隻瀕危動物 本地藝術家創AR壁畫籲關注 #動物蘋台─果籽 香港 A...</td>\n      <td>9jTVSYTcod4</td>\n      <td>NaN</td>\n      <td>9jTVSYTcod4</td>\n      <td>https://www.youtube.com/watch?v=9jTVSYTcod4</td>\n      <td>https%3A%2F%2Fwww.youtube.com%2Fwatch%3Fv%3D9j...</td>\n      <td>https://yt1s.com/en6?q=https%3A%2F%2Fwww.youtu...</td>\n    </tr>\n    <tr>\n      <th>3</th>\n      <td>601</td>\n      <td>url</td>\n      <td>Youtube</td>\n      <td>NaN</td>\n      <td>果籽</td>\n      <td>腸胃｜新口服藥物助穩定潰瘍性結腸炎病情 大便長期稀爛未必有病 #健康蘋台─果籽 香港 App...</td>\n      <td>0osWTQ7Q7-g</td>\n      <td>NaN</td>\n      <td>0osWTQ7Q7-g</td>\n      <td>https://www.youtube.com/watch?v=0osWTQ7Q7-g</td>\n      <td>https%3A%2F%2Fwww.youtube.com%2Fwatch%3Fv%3D0o...</td>\n      <td>https://yt1s.com/en6?q=https%3A%2F%2Fwww.youtu...</td>\n    </tr>\n    <tr>\n      <th>4</th>\n      <td>399</td>\n      <td>url</td>\n      <td>Youtube</td>\n      <td>NaN</td>\n      <td>果籽</td>\n      <td>台山疑洩核｜K Kwong解答6大核危機問題 核危機有幾嚴重 香港是否在安全範圍 #Gadg...</td>\n      <td>hJNmrIBfGpA</td>\n      <td>NaN</td>\n      <td>hJNmrIBfGpA</td>\n      <td>https://www.youtube.com/watch?v=hJNmrIBfGpA</td>\n      <td>https%3A%2F%2Fwww.youtube.com%2Fwatch%3Fv%3DhJ...</td>\n      <td>https://yt1s.com/en6?q=https%3A%2F%2Fwww.youtu...</td>\n    </tr>\n  </tbody>\n</table>\n</div>"
     },
     "execution_count": 3,
     "metadata": {},
     "output_type": "execute_result"
    }
   ],
   "source": [
    "video_sheet = pd.read_csv('apple_daily.csv')\n",
    "video_sheet['link'] = 'https://www.youtube.com/watch?v=' + video_sheet['url']\n",
    "video_sheet['link_decode'] = video_sheet['link'].apply(lambda x: urllib.parse.quote(x).replace('/','%2F'))\n",
    "video_sheet['cdn_link'] = f\"https://yt1s.com/en6?q=\" + video_sheet['link_decode']\n",
    "video_sheet.head()"
   ]
  },
  {
   "cell_type": "code",
   "execution_count": 19,
   "metadata": {},
   "outputs": [],
   "source": [
    "cdn_list = video_sheet['cdn_link'].to_list()\n",
    "title_list = video_sheet['title'].to_list()"
   ]
  },
  {
   "cell_type": "code",
   "execution_count": 30,
   "metadata": {
    "pycharm": {
     "name": "#%%\n"
    }
   },
   "outputs": [
    {
     "name": "stdout",
     "output_type": "stream",
     "text": [
      "[<selenium.webdriver.remote.webelement.WebElement (session=\"a2333f547a95dc0cd9f0b65c59c2297b\", element=\"203326e9-6541-47e9-a9e4-0adc00a8c79d\")>]\n"
     ]
    },
    {
     "name": "stderr",
     "output_type": "stream",
     "text": [
      "INFO:root:0/12645 - Backup 港人求生記｜移英港人自家製絲襪奶茶 倫敦開賣一個月超市上架 #籽想旅行─果籽 香港 Apple Daily─原刊日期：20210624\n"
     ]
    },
    {
     "name": "stdout",
     "output_type": "stream",
     "text": [
      "[<selenium.webdriver.remote.webelement.WebElement (session=\"a2333f547a95dc0cd9f0b65c59c2297b\", element=\"b3f94700-0fa5-43db-b161-ec77181eb9b5\")>]\n"
     ]
    },
    {
     "name": "stderr",
     "output_type": "stream",
     "text": [
      "INFO:root:1/12645 - Backup 腳底疣｜醫生教分辨腳底疣症狀 治療疣3大方法 泳池赤腳行高危 #健康蘋台─果籽 香港 Apple Daily─原刊日期：20210617\n"
     ]
    },
    {
     "name": "stdout",
     "output_type": "stream",
     "text": [
      "[<selenium.webdriver.remote.webelement.WebElement (session=\"a2333f547a95dc0cd9f0b65c59c2297b\", element=\"f797870c-cf21-4d21-9823-32685e13aada\")>]\n"
     ]
    },
    {
     "name": "stderr",
     "output_type": "stream",
     "text": [
      "INFO:root:2/12645 - Backup 非法貿易樞紐｜香港年殺2千隻瀕危動物 本地藝術家創AR壁畫籲關注 #動物蘋台─果籽 香港 Apple Daily─原刊日期：20210622\n"
     ]
    },
    {
     "name": "stdout",
     "output_type": "stream",
     "text": [
      "[<selenium.webdriver.remote.webelement.WebElement (session=\"a2333f547a95dc0cd9f0b65c59c2297b\", element=\"c68b7f8a-9865-4393-b2dc-8941ead09c8f\")>]\n"
     ]
    },
    {
     "name": "stderr",
     "output_type": "stream",
     "text": [
      "INFO:root:3/12645 - Backup 腸胃｜新口服藥物助穩定潰瘍性結腸炎病情 大便長期稀爛未必有病 #健康蘋台─果籽 香港 Apple Daily─原刊日期：20210613\n"
     ]
    },
    {
     "name": "stdout",
     "output_type": "stream",
     "text": [
      "[<selenium.webdriver.remote.webelement.WebElement (session=\"a2333f547a95dc0cd9f0b65c59c2297b\", element=\"b208b6bd-f579-41e5-8aff-5d98b5929d30\")>]\n"
     ]
    },
    {
     "name": "stderr",
     "output_type": "stream",
     "text": [
      "INFO:root:4/12645 - Backup 台山疑洩核｜K Kwong解答6大核危機問題 核危機有幾嚴重 香港是否在安全範圍 #GadgetGuy─果籽 香港 Apple Daily─原刊日期：20210619\n"
     ]
    },
    {
     "name": "stdout",
     "output_type": "stream",
     "text": [
      "[<selenium.webdriver.remote.webelement.WebElement (session=\"a2333f547a95dc0cd9f0b65c59c2297b\", element=\"e400aea9-bbbc-4111-9f1c-20e0ac127f5d\")>]\n"
     ]
    },
    {
     "name": "stderr",
     "output_type": "stream",
     "text": [
      "INFO:root:5/12645 - Backup 地獄腳車王｜Toyota Corolla僅夠代步上斜吃力 揸極唔壞翻新保留90s情懷 #CarMan─果籽 香港 Apple Daily─原刊日期：20210622\n"
     ]
    },
    {
     "name": "stdout",
     "output_type": "stream",
     "text": [
      "[<selenium.webdriver.remote.webelement.WebElement (session=\"a2333f547a95dc0cd9f0b65c59c2297b\", element=\"b412ef4d-71b4-44d1-aef8-b1b466f1aada\")>]\n"
     ]
    },
    {
     "name": "stderr",
     "output_type": "stream",
     "text": [
      "INFO:root:6/12645 - Backup 果籽畢業禮！各位讀者有緣再會 #專題─果籽 香港 Apple Daily─原刊日期：20210623\n"
     ]
    },
    {
     "name": "stdout",
     "output_type": "stream",
     "text": [
      "[<selenium.webdriver.remote.webelement.WebElement (session=\"a2333f547a95dc0cd9f0b65c59c2297b\", element=\"a7c8e975-5410-4e26-b4ac-27373e983073\")>]\n"
     ]
    },
    {
     "name": "stderr",
     "output_type": "stream",
     "text": [
      "INFO:root:7/12645 - Backup 濕疹｜OL嚴重濕疹甩皮腫脹 靠少開冷氣穿六層襪食薑排寒 3個月不藥而癒 #健康蘋台─果籽 香港 Apple Daily─原刊日期：20210622\n"
     ]
    },
    {
     "name": "stdout",
     "output_type": "stream",
     "text": [
      "[<selenium.webdriver.remote.webelement.WebElement (session=\"a2333f547a95dc0cd9f0b65c59c2297b\", element=\"f720d142-4a12-409a-9b51-ebed8703fb01\")>]\n"
     ]
    },
    {
     "name": "stderr",
     "output_type": "stream",
     "text": [
      "INFO:root:8/12645 - Backup 花式跳繩｜世界跳繩冠軍創app教高難度花式 記者實試半小時學識Lv1交叉跳繩 #GadgetGuy─果籽 香港 Apple Daily─原刊日期：20210616\n"
     ]
    },
    {
     "name": "stdout",
     "output_type": "stream",
     "text": [
      "[<selenium.webdriver.remote.webelement.WebElement (session=\"a2333f547a95dc0cd9f0b65c59c2297b\", element=\"d5d8e254-69bb-4367-bcfe-28fe8e23197c\")>]\n"
     ]
    },
    {
     "name": "stderr",
     "output_type": "stream",
     "text": [
      "INFO:root:9/12645 - Backup 濕疹｜子患蠶豆症兼嚴重濕疹 社工媽媽辭職研製手工皂成功改善皮膚 #健康蘋台─果籽 香港 Apple Daily─原刊日期：20210619\n"
     ]
    },
    {
     "name": "stdout",
     "output_type": "stream",
     "text": [
      "[<selenium.webdriver.remote.webelement.WebElement (session=\"a2333f547a95dc0cd9f0b65c59c2297b\", element=\"c2a64e92-c7fd-41bf-81a6-4cc39021f6c1\")>]\n"
     ]
    },
    {
     "name": "stderr",
     "output_type": "stream",
     "text": [
      "INFO:root:10/12645 - Backup iPhone必備｜香港人的iOS實用Widget 桌面直接顯示巴士港鐵實時到站時間 #GadgetGuy─果籽 香港 Apple Daily─原刊日期：20210621\n"
     ]
    },
    {
     "name": "stdout",
     "output_type": "stream",
     "text": [
      "[<selenium.webdriver.remote.webelement.WebElement (session=\"a2333f547a95dc0cd9f0b65c59c2297b\", element=\"260467fb-c51c-47f1-99d4-06cec513e100\")>]\n"
     ]
    },
    {
     "name": "stderr",
     "output_type": "stream",
     "text": [
      "INFO:root:11/12645 - Backup 居港法國情侶｜長洲相識拍拖留港工作 難忘玩命紅van最憎噪音：香港不是最後的家 #籽想好食─果籽 香港 Apple Daily─原刊日期：20210622\n"
     ]
    },
    {
     "name": "stdout",
     "output_type": "stream",
     "text": [
      "[<selenium.webdriver.remote.webelement.WebElement (session=\"a2333f547a95dc0cd9f0b65c59c2297b\", element=\"5131554d-ca2d-4f7b-9dac-66c98de3a247\")>]\n"
     ]
    },
    {
     "name": "stderr",
     "output_type": "stream",
     "text": [
      "INFO:root:12/12645 - Backup 消委會︱減醣飯煲功效成疑 實試一般飯煲加水效果相同 兩招助糖尿病患照常食飯 #健康蘋台─果籽 香港 Apple Daily─原刊日期：20210616\n"
     ]
    },
    {
     "name": "stdout",
     "output_type": "stream",
     "text": [
      "[<selenium.webdriver.remote.webelement.WebElement (session=\"a2333f547a95dc0cd9f0b65c59c2297b\", element=\"d2b68867-3137-4483-a749-1595b448b334\")>]\n"
     ]
    },
    {
     "name": "stderr",
     "output_type": "stream",
     "text": [
      "INFO:root:13/12645 - Backup 電視大戰回顧｜TVB亞視節目鬥足40年 兩台同播包青天 百萬富翁成收視傳奇 #專題─果籽 香港 Apple Daily─原刊日期：20210617\n"
     ]
    },
    {
     "name": "stdout",
     "output_type": "stream",
     "text": [
      "[<selenium.webdriver.remote.webelement.WebElement (session=\"a2333f547a95dc0cd9f0b65c59c2297b\", element=\"fc520e63-5096-46f3-a26a-68bfe965fe5b\")>]\n"
     ]
    },
    {
     "name": "stderr",
     "output_type": "stream",
     "text": [
      "INFO:root:14/12645 - Backup 長者電視台｜27歲女YouTube開銀髮台 月入僅$8,500只為逗長者一笑：唔想啲老人家等死 #專題─果籽 香港 Apple Daily─原刊日期：20210623\n"
     ]
    },
    {
     "name": "stdout",
     "output_type": "stream",
     "text": [
      "[<selenium.webdriver.remote.webelement.WebElement (session=\"a2333f547a95dc0cd9f0b65c59c2297b\", element=\"8d4431ed-a5ff-46c2-9ee9-a2e044df7570\")>]\n"
     ]
    },
    {
     "ename": "IndexError",
     "evalue": "list index out of range",
     "output_type": "error",
     "traceback": [
      "\u001B[1;31m---------------------------------------------------------------------------\u001B[0m",
      "\u001B[1;31mIndexError\u001B[0m                                Traceback (most recent call last)",
      "\u001B[1;32m<ipython-input-30-068644f77450>\u001B[0m in \u001B[0;36m<module>\u001B[1;34m\u001B[0m\n\u001B[0;32m     10\u001B[0m     \u001B[0mtime\u001B[0m\u001B[1;33m.\u001B[0m\u001B[0msleep\u001B[0m\u001B[1;33m(\u001B[0m\u001B[1;36m5\u001B[0m\u001B[1;33m)\u001B[0m\u001B[1;33m\u001B[0m\u001B[1;33m\u001B[0m\u001B[0m\n\u001B[0;32m     11\u001B[0m     \u001B[0mdownload_button\u001B[0m \u001B[1;33m=\u001B[0m \u001B[0mdriver\u001B[0m\u001B[1;33m.\u001B[0m\u001B[0mfind_elements_by_xpath\u001B[0m\u001B[1;33m(\u001B[0m\u001B[1;34m'//*[@id=\"asuccess\"]'\u001B[0m\u001B[1;33m)\u001B[0m\u001B[1;33m\u001B[0m\u001B[1;33m\u001B[0m\u001B[0m\n\u001B[1;32m---> 12\u001B[1;33m     \u001B[0mdownload_button\u001B[0m\u001B[1;33m[\u001B[0m\u001B[1;36m0\u001B[0m\u001B[1;33m]\u001B[0m\u001B[1;33m.\u001B[0m\u001B[0mclick\u001B[0m\u001B[1;33m(\u001B[0m\u001B[1;33m)\u001B[0m\u001B[1;33m\u001B[0m\u001B[1;33m\u001B[0m\u001B[0m\n\u001B[0m\u001B[0;32m     13\u001B[0m     \u001B[0mlogging\u001B[0m\u001B[1;33m.\u001B[0m\u001B[0minfo\u001B[0m\u001B[1;33m(\u001B[0m\u001B[1;34mf'{idx}/{len(cdn_list)} - Backup {title_list[idx]}'\u001B[0m\u001B[1;33m)\u001B[0m\u001B[1;33m\u001B[0m\u001B[1;33m\u001B[0m\u001B[0m\n\u001B[0;32m     14\u001B[0m \u001B[0mtime\u001B[0m\u001B[1;33m.\u001B[0m\u001B[0msleep\u001B[0m\u001B[1;33m(\u001B[0m\u001B[1;36m60\u001B[0m\u001B[1;33m)\u001B[0m\u001B[1;33m\u001B[0m\u001B[1;33m\u001B[0m\u001B[0m\n",
      "\u001B[1;31mIndexError\u001B[0m: list index out of range"
     ]
    }
   ],
   "source": [
    "options = webdriver.ChromeOptions()\n",
    "options.add_experimental_option(\"prefs\", {\"download.default_directory\":\"D:\\Apple Daily\\果籽\"})\n",
    "driver = webdriver.Chrome(executable_path='chromedriver.exe', options=options)\n",
    "for idx, video in enumerate(cdn_list):\n",
    "    try:\n",
    "        driver.get(video)\n",
    "        time.sleep(5)\n",
    "        get_link_button = driver.find_elements_by_xpath('//*[@id=\"btn-action\"]')\n",
    "        get_link_button[0].click()\n",
    "        time.sleep(5)\n",
    "        download_button = driver.find_elements_by_xpath('//*[@id=\"asuccess\"]')\n",
    "        download_button[0].click()\n",
    "        logging.info(f'{idx}/{len(cdn_list)} - Backup {title_list[idx]}')\n",
    "    except:\n",
    "        logging.info(f'SKIPPED: {idx}/{len(cdn_list)} - Backup {title_list[idx]}')\n",
    "time.sleep(60)\n",
    "driver.quit()"
   ]
  },
  {
   "cell_type": "code",
   "execution_count": null,
   "outputs": [],
   "source": [],
   "metadata": {
    "collapsed": false,
    "pycharm": {
     "name": "#%%\n"
    }
   }
  }
 ],
 "metadata": {
  "kernelspec": {
   "display_name": "Python 3",
   "language": "python",
   "name": "python3"
  },
  "language_info": {
   "codemirror_mode": {
    "name": "ipython",
    "version": 3
   },
   "file_extension": ".py",
   "mimetype": "text/x-python",
   "name": "python",
   "nbconvert_exporter": "python",
   "pygments_lexer": "ipython3",
   "version": "3.8.10"
  }
 },
 "nbformat": 4,
 "nbformat_minor": 4
}