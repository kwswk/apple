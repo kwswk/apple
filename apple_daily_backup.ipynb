{
 "cells": [
  {
   "cell_type": "code",
   "execution_count": 41,
   "metadata": {},
   "outputs": [],
   "source": [
    "from __future__ import unicode_literals\n",
    "import pandas as pd\n",
    "import urllib\n",
    "from selenium import webdriver\n",
    "import time"
   ]
  },
  {
   "cell_type": "code",
   "execution_count": 4,
   "metadata": {},
   "outputs": [
    {
     "data": {
      "text/plain": "   duration _type   ie_key  description uploader  \\\n0       658   url  Youtube          NaN       果籽   \n1       319   url  Youtube          NaN       果籽   \n2       587   url  Youtube          NaN       果籽   \n3       601   url  Youtube          NaN       果籽   \n4       399   url  Youtube          NaN       果籽   \n\n                                               title          url  view_count  \\\n0  港人求生記｜移英港人自家製絲襪奶茶 倫敦開賣一個月超市上架 #籽想旅行─果籽 香港 Appl...  hxoO8-kc3Dk         NaN   \n1  腳底疣｜醫生教分辨腳底疣症狀 治療疣3大方法 泳池赤腳行高危 #健康蘋台─果籽 香港 App...  bHA0B4TGfcU         NaN   \n2  非法貿易樞紐｜香港年殺2千隻瀕危動物 本地藝術家創AR壁畫籲關注 #動物蘋台─果籽 香港 A...  9jTVSYTcod4         NaN   \n3  腸胃｜新口服藥物助穩定潰瘍性結腸炎病情 大便長期稀爛未必有病 #健康蘋台─果籽 香港 App...  0osWTQ7Q7-g         NaN   \n4  台山疑洩核｜K Kwong解答6大核危機問題 核危機有幾嚴重 香港是否在安全範圍 #Gadg...  hJNmrIBfGpA         NaN   \n\n            id                                         link  \\\n0  hxoO8-kc3Dk  https://www.youtube.com/watch?v=hxoO8-kc3Dk   \n1  bHA0B4TGfcU  https://www.youtube.com/watch?v=bHA0B4TGfcU   \n2  9jTVSYTcod4  https://www.youtube.com/watch?v=9jTVSYTcod4   \n3  0osWTQ7Q7-g  https://www.youtube.com/watch?v=0osWTQ7Q7-g   \n4  hJNmrIBfGpA  https://www.youtube.com/watch?v=hJNmrIBfGpA   \n\n                                         link_decode  \\\n0  https%3A%2F%2Fwww.youtube.com%2Fwatch%3Fv%3Dhx...   \n1  https%3A%2F%2Fwww.youtube.com%2Fwatch%3Fv%3DbH...   \n2  https%3A%2F%2Fwww.youtube.com%2Fwatch%3Fv%3D9j...   \n3  https%3A%2F%2Fwww.youtube.com%2Fwatch%3Fv%3D0o...   \n4  https%3A%2F%2Fwww.youtube.com%2Fwatch%3Fv%3DhJ...   \n\n                                            cdn_link  \n0  https://yt1s.com/en6?q=https%3A%2F%2Fwww.youtu...  \n1  https://yt1s.com/en6?q=https%3A%2F%2Fwww.youtu...  \n2  https://yt1s.com/en6?q=https%3A%2F%2Fwww.youtu...  \n3  https://yt1s.com/en6?q=https%3A%2F%2Fwww.youtu...  \n4  https://yt1s.com/en6?q=https%3A%2F%2Fwww.youtu...  ",
      "text/html": "<div>\n<style scoped>\n    .dataframe tbody tr th:only-of-type {\n        vertical-align: middle;\n    }\n\n    .dataframe tbody tr th {\n        vertical-align: top;\n    }\n\n    .dataframe thead th {\n        text-align: right;\n    }\n</style>\n<table border=\"1\" class=\"dataframe\">\n  <thead>\n    <tr style=\"text-align: right;\">\n      <th></th>\n      <th>duration</th>\n      <th>_type</th>\n      <th>ie_key</th>\n      <th>description</th>\n      <th>uploader</th>\n      <th>title</th>\n      <th>url</th>\n      <th>view_count</th>\n      <th>id</th>\n      <th>link</th>\n      <th>link_decode</th>\n      <th>cdn_link</th>\n    </tr>\n  </thead>\n  <tbody>\n    <tr>\n      <th>0</th>\n      <td>658</td>\n      <td>url</td>\n      <td>Youtube</td>\n      <td>NaN</td>\n      <td>果籽</td>\n      <td>港人求生記｜移英港人自家製絲襪奶茶 倫敦開賣一個月超市上架 #籽想旅行─果籽 香港 Appl...</td>\n      <td>hxoO8-kc3Dk</td>\n      <td>NaN</td>\n      <td>hxoO8-kc3Dk</td>\n      <td>https://www.youtube.com/watch?v=hxoO8-kc3Dk</td>\n      <td>https%3A%2F%2Fwww.youtube.com%2Fwatch%3Fv%3Dhx...</td>\n      <td>https://yt1s.com/en6?q=https%3A%2F%2Fwww.youtu...</td>\n    </tr>\n    <tr>\n      <th>1</th>\n      <td>319</td>\n      <td>url</td>\n      <td>Youtube</td>\n      <td>NaN</td>\n      <td>果籽</td>\n      <td>腳底疣｜醫生教分辨腳底疣症狀 治療疣3大方法 泳池赤腳行高危 #健康蘋台─果籽 香港 App...</td>\n      <td>bHA0B4TGfcU</td>\n      <td>NaN</td>\n      <td>bHA0B4TGfcU</td>\n      <td>https://www.youtube.com/watch?v=bHA0B4TGfcU</td>\n      <td>https%3A%2F%2Fwww.youtube.com%2Fwatch%3Fv%3DbH...</td>\n      <td>https://yt1s.com/en6?q=https%3A%2F%2Fwww.youtu...</td>\n    </tr>\n    <tr>\n      <th>2</th>\n      <td>587</td>\n      <td>url</td>\n      <td>Youtube</td>\n      <td>NaN</td>\n      <td>果籽</td>\n      <td>非法貿易樞紐｜香港年殺2千隻瀕危動物 本地藝術家創AR壁畫籲關注 #動物蘋台─果籽 香港 A...</td>\n      <td>9jTVSYTcod4</td>\n      <td>NaN</td>\n      <td>9jTVSYTcod4</td>\n      <td>https://www.youtube.com/watch?v=9jTVSYTcod4</td>\n      <td>https%3A%2F%2Fwww.youtube.com%2Fwatch%3Fv%3D9j...</td>\n      <td>https://yt1s.com/en6?q=https%3A%2F%2Fwww.youtu...</td>\n    </tr>\n    <tr>\n      <th>3</th>\n      <td>601</td>\n      <td>url</td>\n      <td>Youtube</td>\n      <td>NaN</td>\n      <td>果籽</td>\n      <td>腸胃｜新口服藥物助穩定潰瘍性結腸炎病情 大便長期稀爛未必有病 #健康蘋台─果籽 香港 App...</td>\n      <td>0osWTQ7Q7-g</td>\n      <td>NaN</td>\n      <td>0osWTQ7Q7-g</td>\n      <td>https://www.youtube.com/watch?v=0osWTQ7Q7-g</td>\n      <td>https%3A%2F%2Fwww.youtube.com%2Fwatch%3Fv%3D0o...</td>\n      <td>https://yt1s.com/en6?q=https%3A%2F%2Fwww.youtu...</td>\n    </tr>\n    <tr>\n      <th>4</th>\n      <td>399</td>\n      <td>url</td>\n      <td>Youtube</td>\n      <td>NaN</td>\n      <td>果籽</td>\n      <td>台山疑洩核｜K Kwong解答6大核危機問題 核危機有幾嚴重 香港是否在安全範圍 #Gadg...</td>\n      <td>hJNmrIBfGpA</td>\n      <td>NaN</td>\n      <td>hJNmrIBfGpA</td>\n      <td>https://www.youtube.com/watch?v=hJNmrIBfGpA</td>\n      <td>https%3A%2F%2Fwww.youtube.com%2Fwatch%3Fv%3DhJ...</td>\n      <td>https://yt1s.com/en6?q=https%3A%2F%2Fwww.youtu...</td>\n    </tr>\n  </tbody>\n</table>\n</div>"
     },
     "execution_count": 4,
     "metadata": {},
     "output_type": "execute_result"
    }
   ],
   "source": [
    "video_sheet = pd.read_csv('apple_daily.csv')\n",
    "video_sheet['link'] = 'https://www.youtube.com/watch?v=' + video_sheet['url']\n",
    "video_sheet['link_decode'] = video_sheet['link'].apply(lambda x: urllib.parse.quote(x).replace('/','%2F'))\n",
    "video_sheet['cdn_link'] = f\"https://yt1s.com/en6?q=\" + video_sheet['link_decode']\n",
    "video_sheet.head()"
   ]
  },
  {
   "cell_type": "code",
   "execution_count": 47,
   "metadata": {},
   "outputs": [
    {
     "data": {
      "text/plain": "['https://yt1s.com/en6?q=https%3A%2F%2Fwww.youtube.com%2Fwatch%3Fv%3DhxoO8-kc3Dk',\n 'https://yt1s.com/en6?q=https%3A%2F%2Fwww.youtube.com%2Fwatch%3Fv%3DbHA0B4TGfcU',\n 'https://yt1s.com/en6?q=https%3A%2F%2Fwww.youtube.com%2Fwatch%3Fv%3D9jTVSYTcod4',\n 'https://yt1s.com/en6?q=https%3A%2F%2Fwww.youtube.com%2Fwatch%3Fv%3D0osWTQ7Q7-g',\n 'https://yt1s.com/en6?q=https%3A%2F%2Fwww.youtube.com%2Fwatch%3Fv%3DhJNmrIBfGpA']"
     },
     "execution_count": 47,
     "metadata": {},
     "output_type": "execute_result"
    }
   ],
   "source": [
    "cdn_list = video_sheet['cdn_link'].to_list()\n",
    "cdn_list[:5]"
   ]
  },
  {
   "cell_type": "code",
   "execution_count": 49,
   "metadata": {},
   "outputs": [
    {
     "name": "stdout",
     "output_type": "stream",
     "text": [
      "[<selenium.webdriver.remote.webelement.WebElement (session=\"8161ec79d40afccfa2bfdc7b071b9394\", element=\"22de7bc7-bf44-488e-a834-f03d51c392a0\")>]\n",
      "[<selenium.webdriver.remote.webelement.WebElement (session=\"8161ec79d40afccfa2bfdc7b071b9394\", element=\"5eb3e6df-0b79-4309-bc11-b34a854c1eaa\")>]\n",
      "[<selenium.webdriver.remote.webelement.WebElement (session=\"8161ec79d40afccfa2bfdc7b071b9394\", element=\"0d3dd3ef-9050-40ee-928f-0717e7f70fa9\")>]\n",
      "[<selenium.webdriver.remote.webelement.WebElement (session=\"8161ec79d40afccfa2bfdc7b071b9394\", element=\"29686691-d05e-4e09-8bf2-21a8628534b8\")>]\n",
      "[<selenium.webdriver.remote.webelement.WebElement (session=\"8161ec79d40afccfa2bfdc7b071b9394\", element=\"e1064c96-ce52-45a4-9ae1-5db2a00823f8\")>]\n"
     ]
    }
   ],
   "source": [
    "driver = webdriver.Chrome(executable_path='/Users/erickung/Documents/python_project/apple_daily/chromedriver')\n",
    "for video in cdn_list:\n",
    "    driver.get(video)\n",
    "    time.sleep(5)\n",
    "    get_link_button = driver.find_elements_by_xpath('//*[@id=\"btn-action\"]')\n",
    "    print(get_link_button)\n",
    "    get_link_button[0].click()\n",
    "    time.sleep(5)\n",
    "    download_button = driver.find_elements_by_xpath('//*[@id=\"asuccess\"]')\n",
    "    download_button[0].click()\n",
    "driver.close()"
   ]
  },
  {
   "cell_type": "code",
   "execution_count": 38,
   "outputs": [
    {
     "ename": "AttributeError",
     "evalue": "'list' object has no attribute 'click'",
     "output_type": "error",
     "traceback": [
      "\u001B[0;31m---------------------------------------------------------------------------\u001B[0m",
      "\u001B[0;31mAttributeError\u001B[0m                            Traceback (most recent call last)",
      "\u001B[0;32m<ipython-input-38-ac87c1598983>\u001B[0m in \u001B[0;36m<module>\u001B[0;34m\u001B[0m\n\u001B[1;32m      3\u001B[0m \u001B[0;34m\u001B[0m\u001B[0m\n\u001B[1;32m      4\u001B[0m \u001B[0;32mwhile\u001B[0m \u001B[0mget_link_btn_click\u001B[0m\u001B[0;34m(\u001B[0m\u001B[0;34m)\u001B[0m \u001B[0;34m!=\u001B[0m \u001B[0;34m[\u001B[0m\u001B[0;34m]\u001B[0m\u001B[0;34m:\u001B[0m\u001B[0;34m\u001B[0m\u001B[0;34m\u001B[0m\u001B[0m\n\u001B[0;32m----> 5\u001B[0;31m     \u001B[0mget_link_btn_click\u001B[0m\u001B[0;34m(\u001B[0m\u001B[0;34m)\u001B[0m\u001B[0;34m.\u001B[0m\u001B[0mclick\u001B[0m\u001B[0;34m(\u001B[0m\u001B[0;34m)\u001B[0m\u001B[0;34m\u001B[0m\u001B[0;34m\u001B[0m\u001B[0m\n\u001B[0m\u001B[1;32m      6\u001B[0m     \u001B[0mprint\u001B[0m\u001B[0;34m(\u001B[0m\u001B[0mget_link_btn_click\u001B[0m\u001B[0;34m(\u001B[0m\u001B[0;34m)\u001B[0m\u001B[0;34m)\u001B[0m\u001B[0;34m\u001B[0m\u001B[0;34m\u001B[0m\u001B[0m\n",
      "\u001B[0;31mAttributeError\u001B[0m: 'list' object has no attribute 'click'"
     ]
    }
   ],
   "source": [],
   "metadata": {
    "collapsed": false,
    "pycharm": {
     "name": "#%%\n"
    }
   }
  },
  {
   "cell_type": "code",
   "execution_count": 35,
   "outputs": [
    {
     "data": {
      "text/plain": "[<selenium.webdriver.remote.webelement.WebElement (session=\"947780520ac5b04d9234b151f78521e7\", element=\"c579bad7-6c24-49ef-923a-7956502d4de2\")>]"
     },
     "execution_count": 35,
     "metadata": {},
     "output_type": "execute_result"
    }
   ],
   "source": [],
   "metadata": {
    "collapsed": false,
    "pycharm": {
     "name": "#%%\n"
    }
   }
  },
  {
   "cell_type": "code",
   "execution_count": null,
   "outputs": [],
   "source": [],
   "metadata": {
    "collapsed": false,
    "pycharm": {
     "name": "#%%\n"
    }
   }
  }
 ],
 "metadata": {
  "kernelspec": {
   "display_name": "Python 3",
   "language": "python",
   "name": "python3"
  },
  "language_info": {
   "codemirror_mode": {
    "name": "ipython",
    "version": 3
   },
   "file_extension": ".py",
   "mimetype": "text/x-python",
   "name": "python",
   "nbconvert_exporter": "python",
   "pygments_lexer": "ipython3",
   "version": "3.8.10"
  }
 },
 "nbformat": 4,
 "nbformat_minor": 4
}